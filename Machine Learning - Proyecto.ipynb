{
 "cells": [
  {
   "cell_type": "markdown",
   "metadata": {},
   "source": [
    "# Machine Learning - Proyecto final\n",
    "\n",
    "## Alumno: Rodríguez Ferreira Diego Ernesto\n",
    "\n",
    "**El proyecto final será el 60% de la evaluación final.**\n",
    "\n",
    "**El proyecto final consistira en el uso de un técnica de Machine Learning en un set de datos de su preferencia, con su correspondiente diseño y evaluación.**\n",
    "\n",
    "**Pueden hacer equipos de hasta tres personas.**\n",
    "\n",
    "**Necesitan hacer un reporte de 3-5 paginas sobre el set de datos, el diseño y las variables usadas.**"
   ]
  },
  {
   "cell_type": "code",
   "execution_count": null,
   "metadata": {},
   "outputs": [],
   "source": []
  },
  {
   "cell_type": "code",
   "execution_count": null,
   "metadata": {},
   "outputs": [],
   "source": []
  }
 ],
 "metadata": {
  "kernelspec": {
   "display_name": "Python 3",
   "language": "python",
   "name": "python3"
  },
  "language_info": {
   "codemirror_mode": {
    "name": "ipython",
    "version": 3
   },
   "file_extension": ".py",
   "mimetype": "text/x-python",
   "name": "python",
   "nbconvert_exporter": "python",
   "pygments_lexer": "ipython3",
   "version": "3.6.5"
  }
 },
 "nbformat": 4,
 "nbformat_minor": 2
}
